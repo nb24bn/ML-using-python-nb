pip install easyocr
import easyocr
